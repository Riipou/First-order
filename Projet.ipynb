{
  "nbformat": 4,
  "nbformat_minor": 0,
  "metadata": {
    "colab": {
      "provenance": [],
      "authorship_tag": "ABX9TyP01HzJILuJDY3iXum7xphf",
      "include_colab_link": true
    },
    "kernelspec": {
      "name": "python3",
      "display_name": "Python 3"
    },
    "language_info": {
      "name": "python"
    }
  },
  "cells": [
    {
      "cell_type": "markdown",
      "metadata": {
        "id": "view-in-github",
        "colab_type": "text"
      },
      "source": [
        "<a href=\"https://colab.research.google.com/github/Riipou/First-order/blob/main/Projet.ipynb\" target=\"_parent\"><img src=\"https://colab.research.google.com/assets/colab-badge.svg\" alt=\"Open In Colab\"/></a>"
      ]
    },
    {
      "cell_type": "markdown",
      "source": [
        "# Import"
      ],
      "metadata": {
        "id": "bl83xkta8l4X"
      }
    },
    {
      "cell_type": "code",
      "source": [
        "from scipy.io import loadmat\n",
        "import numpy as np\n",
        "import matplotlib.pyplot as plt"
      ],
      "metadata": {
        "id": "N-hIFm_oAlSB"
      },
      "execution_count": 330,
      "outputs": []
    },
    {
      "cell_type": "markdown",
      "source": [
        "# Chargement et pré-traitement des données"
      ],
      "metadata": {
        "id": "SYh8dg7z8O3v"
      }
    },
    {
      "cell_type": "code",
      "source": [
        "def one_hot_encoding(y):\n",
        "    new_y = []\n",
        "    for label in y:\n",
        "        label_vector = np.zeros(20)\n",
        "        label_vector[label - 1] = 1\n",
        "        new_y.append(label_vector)\n",
        "    y = np.array(new_y)\n",
        "    return y\n",
        "\n",
        "def shuffle(X, y):\n",
        "    index = np.arange(np.shape(X)[1])\n",
        "    np.random.shuffle(index)\n",
        "    X = X[:, index]\n",
        "    y = y[index, :]\n",
        "    return X, y\n",
        "\n",
        "def split_data(X, y, split_value=0.85):\n",
        "    m = X.shape[1]\n",
        "    m = int(m * split_value)\n",
        "    X_train = X[:, :m]\n",
        "    y_train = y[:, :m]\n",
        "    X_test = X[:, m:]\n",
        "    y_test = y[:, m:]\n",
        "    return X_train, y_train, X_test, y_test"
      ],
      "metadata": {
        "id": "MDPtzI948q-e"
      },
      "execution_count": 331,
      "outputs": []
    },
    {
      "cell_type": "code",
      "source": [
        "# Charger le fichier .mat\n",
        "nom_fichier_mat = 'data_doc.mat'\n",
        "donnees = loadmat(nom_fichier_mat)\n",
        "\n",
        "# Xts combien de fois le mot dans le texte\n",
        "if 'Xts' in donnees:\n",
        "    Xts = donnees['Xts']\n",
        "else:\n",
        "    print(\"La variable 'Xts' n'a pas été trouvée dans le fichier.\")\n",
        "\n",
        "# id texte avec classe\n",
        "if 'yts' in donnees:\n",
        "    yts = donnees['yts']\n",
        "else:\n",
        "    print(\"La variable 'yts' n'a pas été trouvée dans le fichier.\")\n",
        "\n",
        "# Xvr combien de fois le mot dans le texte\n",
        "if 'Xvr' in donnees:\n",
        "    Xvr = donnees['Xvr']\n",
        "else:\n",
        "    print(\"La variable 'Xvr' n'a pas été trouvée dans le fichier.\")\n",
        "\n",
        "yts = one_hot_encoding(yts)\n",
        "Xts, yts = shuffle(Xts, yts)\n",
        "X_train, y_train, X_test, y_test = split_data(Xts, yts.T)"
      ],
      "metadata": {
        "id": "O0WvebYQ8Obr"
      },
      "execution_count": 332,
      "outputs": []
    },
    {
      "cell_type": "markdown",
      "source": [
        "# Variables"
      ],
      "metadata": {
        "id": "VanXa1rM8ZM9"
      }
    },
    {
      "cell_type": "code",
      "source": [
        "num_iterations=1600\n",
        "learning_rate=0.1\n",
        "a = 0.05"
      ],
      "metadata": {
        "id": "Ur52FKOD8X4h"
      },
      "execution_count": 333,
      "outputs": []
    },
    {
      "cell_type": "markdown",
      "source": [
        "#Descente du gradient"
      ],
      "metadata": {
        "id": "9P5g_HL68dYX"
      }
    },
    {
      "cell_type": "code",
      "source": [
        "def loss_function(y, y_pred):\n",
        "    n = y.shape[1]\n",
        "    loss = (np.linalg.norm(y - y_pred, 'fro') ** 2) / n\n",
        "    return loss\n",
        "\n",
        "def relu(x, a):\n",
        "    return np.maximum(0, a * x)\n",
        "\n",
        "\n",
        "def sigmoid(x, a):\n",
        "    return 1 / (1 + np.exp(-a * x))\n",
        "\n",
        "def sigmoid_derivative(x, a):\n",
        "    return a * sigmoid(x, a) * (1 - sigmoid(x, a))\n",
        "\n",
        "def update_W1(X, Y, W1, b1, learning_rate, a):\n",
        "    n = Y.shape[1]\n",
        "\n",
        "    sigmoid_derivative_term = sigmoid_derivative(W1.T @ X + b1, a)\n",
        "\n",
        "    gradient = X @ ((1/n) * (sigmoid(W1.T @ X + b1, a) - Y) * sigmoid_derivative_term).T\n",
        "\n",
        "    update = learning_rate * gradient\n",
        "\n",
        "    return update\n",
        "\n",
        "def update_b1(X, Y, W1, b1, learning_rate, a):\n",
        "    n = Y.shape[1]\n",
        "    ones_vector = np.ones((1, n))\n",
        "    sigmoid_derivative_term = sigmoid_derivative(W1.T @ X + b1, a)\n",
        "\n",
        "    gradient = (1/n) * np.sum((sigmoid(W1.T @ X + b1, a) - Y) * sigmoid_derivative_term * ones_vector, axis=1, keepdims=True)\n",
        "    update = learning_rate * gradient\n",
        "\n",
        "    return update\n",
        "\n",
        "def block_coordinate_descent(X, Y, W1, b1, num_iterations, learning_rate, a):\n",
        "    train_losses = []  # Pour stocker les pertes d'entraînement à chaque itération\n",
        "    accuracies = []  # Pour stocker les accuracies à chaque itération\n",
        "\n",
        "    for k in range(num_iterations):\n",
        "        # Optimize W1 while fixing b1\n",
        "        W1 -= update_W1(X, Y, W1, b1, learning_rate, a)\n",
        "\n",
        "        # Optimize b1 while fixing W1\n",
        "        b1 -= update_b1(X, Y, W1, b1, learning_rate, a)\n",
        "\n",
        "        # Calculate and print the loss for monitoring every 10 iterations\n",
        "        if (k + 1) % 10 == 0:\n",
        "            Y_pred = sigmoid(W1.T @ X + b1, a)\n",
        "            loss = loss_function(Y, Y_pred)\n",
        "            accuracy = np.mean(np.round(Y_pred) == Y)\n",
        "            train_losses.append(loss)\n",
        "            accuracies.append(accuracy)\n",
        "            print(f\"Iteration {k+1}, Loss: {loss}, Accuracy: {accuracy * 100}%\")\n",
        "\n",
        "    return W1, b1, train_losses, accuracies"
      ],
      "metadata": {
        "id": "AJFQyc6K8zcm"
      },
      "execution_count": 334,
      "outputs": []
    },
    {
      "cell_type": "code",
      "source": [
        "# Initialisation des poids\n",
        "b1_initial = np.random.randn(20, 1)\n",
        "\n",
        "# Avec une distribution normal\n",
        "# W1_initial = np.random.randn(20, X_train.shape[0])\n",
        "\n",
        "# Avec l'initialisation Xavier/Glorot\n",
        "W1_initial = np.random.randn(20, X_train.shape[0]) * np.sqrt(2.0 / (X_train.shape[0] + 20))\n",
        "\n",
        "W1_initial = W1_initial.T\n",
        "\n",
        "W1_optimized, b1_optimized, train_losses, accuracies = block_coordinate_descent(X_train, y_train, W1_initial, b1_initial, num_iterations, learning_rate, a)\n",
        "\n",
        "# Now nous W1_optimized and b1_optimized"
      ],
      "metadata": {
        "colab": {
          "base_uri": "https://localhost:8080/"
        },
        "id": "bwD8f2148WLT",
        "outputId": "fb882ddd-eed9-47d8-c156-aa4c7b08f69d"
      },
      "execution_count": 335,
      "outputs": [
        {
          "output_type": "stream",
          "name": "stdout",
          "text": [
            "Iteration 10, Loss: 5.0958942402804945, Accuracy: 37.61208494859262%\n",
            "Iteration 20, Loss: 5.087347369151443, Accuracy: 38.412691724254174%\n",
            "Iteration 30, Loss: 5.078856302557048, Accuracy: 39.29420192145626%\n",
            "Iteration 40, Loss: 5.070421558253791, Accuracy: 40.264621607955505%\n",
            "Iteration 50, Loss: 5.062043501930838, Accuracy: 41.307517276251474%\n",
            "Iteration 60, Loss: 5.053722353874949, Accuracy: 42.38496544749705%\n",
            "Iteration 70, Loss: 5.045458196865702, Accuracy: 43.4767402663071%\n",
            "Iteration 80, Loss: 5.03725098503354, Accuracy: 44.49266812742289%\n",
            "Iteration 90, Loss: 5.029100553419934, Accuracy: 45.555368279116806%\n",
            "Iteration 100, Loss: 5.021006627993766, Accuracy: 46.6189111747851%\n",
            "Iteration 110, Loss: 5.012968835899093, Accuracy: 47.599443788976906%\n",
            "Iteration 120, Loss: 5.004986715734599, Accuracy: 48.57323445137367%\n",
            "Iteration 130, Loss: 4.997059727692818, Accuracy: 49.58536996460475%\n",
            "Iteration 140, Loss: 4.9891872634154755, Accuracy: 50.51828754424405%\n",
            "Iteration 150, Loss: 4.981368655449545, Accuracy: 51.42887240856228%\n",
            "Iteration 160, Loss: 4.973603186214853, Accuracy: 52.35884038429125%\n",
            "Iteration 170, Loss: 4.965890096418673, Accuracy: 53.255098601045006%\n",
            "Iteration 180, Loss: 4.958228592874275, Accuracy: 54.09784257542558%\n",
            "Iteration 190, Loss: 4.950617855699336, Accuracy: 54.96039103320412%\n",
            "Iteration 200, Loss: 4.943057044885999, Accuracy: 55.795128939828075%\n",
            "Iteration 210, Loss: 4.935545306247528, Accuracy: 56.6538850497219%\n",
            "Iteration 220, Loss: 4.928081776756832, Accuracy: 57.49620765211528%\n",
            "Iteration 230, Loss: 4.920665589300303, Accuracy: 58.311562447328505%\n",
            "Iteration 240, Loss: 4.91329587687636, Accuracy: 59.15219956177313%\n",
            "Iteration 250, Loss: 4.905971776271951, Accuracy: 59.91825383448508%\n",
            "Iteration 260, Loss: 4.8986924312532425, Accuracy: 60.677144783414796%\n",
            "Iteration 270, Loss: 4.891456995307585, Accuracy: 61.42128771279285%\n",
            "Iteration 280, Loss: 4.884264633974439, Accuracy: 62.201668633069275%\n",
            "Iteration 290, Loss: 4.877114526802269, Accuracy: 62.9470756784089%\n",
            "Iteration 300, Loss: 4.870005868967371, Accuracy: 63.67352098432496%\n",
            "Iteration 310, Loss: 4.86293787258889, Accuracy: 64.36457104331704%\n",
            "Iteration 320, Loss: 4.855909767772597, Accuracy: 65.03160289903927%\n",
            "Iteration 330, Loss: 4.848920803413785, Accuracy: 65.67503792347885%\n",
            "Iteration 340, Loss: 4.8419702477875015, Accuracy: 66.33912017529074%\n",
            "Iteration 350, Loss: 4.835057388952068, Accuracy: 66.99983145120513%\n",
            "Iteration 360, Loss: 4.828181534989825, Accuracy: 67.63568177987528%\n",
            "Iteration 370, Loss: 4.82134201410661, Accuracy: 68.2466711613012%\n",
            "Iteration 380, Loss: 4.814538174609629, Accuracy: 68.82605764368785%\n",
            "Iteration 390, Loss: 4.807769384781449, Accuracy: 69.38395415472779%\n",
            "Iteration 400, Loss: 4.801035032665824, Accuracy: 69.92583853025451%\n",
            "Iteration 410, Loss: 4.794334525779601, Accuracy: 70.46519467385808%\n",
            "Iteration 420, Loss: 4.78766729076317, Accuracy: 70.96999831451205%\n",
            "Iteration 430, Loss: 4.781032772980695, Accuracy: 71.49502781055116%\n",
            "Iteration 440, Loss: 4.774430436079826, Accuracy: 71.98508343165346%\n",
            "Iteration 450, Loss: 4.767859761519562, Accuracy: 72.45027810551154%\n",
            "Iteration 460, Loss: 4.761320248073807, Accuracy: 72.90451710770269%\n",
            "Iteration 470, Loss: 4.75481141131715, Accuracy: 73.33600202258553%\n",
            "Iteration 480, Loss: 4.748332783098497, Accuracy: 73.75863812573739%\n",
            "Iteration 490, Loss: 4.741883911007646, Accuracy: 74.18085285690206%\n",
            "Iteration 500, Loss: 4.735464357838727, Accuracy: 74.61486600370807%\n",
            "Iteration 510, Loss: 4.729073701054338, Accuracy: 75.0429799426934%\n",
            "Iteration 520, Loss: 4.722711532253266, Accuracy: 75.4512893982808%\n",
            "Iteration 530, Loss: 4.716377456644364, Accuracy: 75.81535479521322%\n",
            "Iteration 540, Loss: 4.710071092528758, Accuracy: 76.17478510028654%\n",
            "Iteration 550, Loss: 4.703792070792017, Accuracy: 76.52199561773133%\n",
            "Iteration 560, Loss: 4.697540034407788, Accuracy: 76.88058317883028%\n",
            "Iteration 570, Loss: 4.691314637953998, Accuracy: 77.21768076858251%\n",
            "Iteration 580, Loss: 4.6851155471424475, Accuracy: 77.53792347884712%\n",
            "Iteration 590, Loss: 4.678942438362496, Accuracy: 77.85943030507332%\n",
            "Iteration 600, Loss: 4.672794998239278, Accuracy: 78.18346536322265%\n",
            "Iteration 610, Loss: 4.666672923206805, Accuracy: 78.50539356143604%\n",
            "Iteration 620, Loss: 4.660575919096014, Accuracy: 78.79908983650768%\n",
            "Iteration 630, Loss: 4.654503700737959, Accuracy: 79.09025787965615%\n",
            "Iteration 640, Loss: 4.648455991581934, Accuracy: 79.37763357491994%\n",
            "Iteration 650, Loss: 4.642432523328526, Accuracy: 79.65911006236306%\n",
            "Iteration 660, Loss: 4.636433035577317, Accuracy: 79.94943536153717%\n",
            "Iteration 670, Loss: 4.630457275489025, Accuracy: 80.22248440923647%\n",
            "Iteration 680, Loss: 4.624504997461725, Accuracy: 80.47994269340974%\n",
            "Iteration 690, Loss: 4.618575962820797, Accuracy: 80.72728804989045%\n",
            "Iteration 700, Loss: 4.612669939522366, Accuracy: 80.9893814259228%\n",
            "Iteration 710, Loss: 4.60678670186961, Accuracy: 81.23335580650598%\n",
            "Iteration 720, Loss: 4.600926030241714, Accuracy: 81.4537333558065%\n",
            "Iteration 730, Loss: 4.595087710834969, Accuracy: 81.69770773638967%\n",
            "Iteration 740, Loss: 4.58927153541557, Accuracy: 81.94631720883196%\n",
            "Iteration 750, Loss: 4.58347730108373, Accuracy: 82.16838024608124%\n",
            "Iteration 760, Loss: 4.577704810048639, Accuracy: 82.40139895499748%\n",
            "Iteration 770, Loss: 4.571953869413824, Accuracy: 82.62346199224676%\n",
            "Iteration 780, Loss: 4.566224290972572, Accuracy: 82.84173268161132%\n",
            "Iteration 790, Loss: 4.560515891012859, Accuracy: 83.0642170908478%\n",
            "Iteration 800, Loss: 4.554828490131536, Accuracy: 83.28333052418675%\n",
            "Iteration 810, Loss: 4.5491619130572, Accuracy: 83.48474633406371%\n",
            "Iteration 820, Loss: 4.543515988481538, Accuracy: 83.66635766054273%\n",
            "Iteration 830, Loss: 4.537890548898607, Accuracy: 83.86103151862464%\n",
            "Iteration 840, Loss: 4.5322854304518145, Accuracy: 84.04601382100118%\n",
            "Iteration 850, Loss: 4.5267004727881375, Accuracy: 84.24026630709591%\n",
            "Iteration 860, Loss: 4.521135518919329, Accuracy: 84.41682116972864%\n",
            "Iteration 870, Loss: 4.515590415089733, Accuracy: 84.59674700825889%\n",
            "Iteration 880, Loss: 4.510065010650381, Accuracy: 84.76234619922468%\n",
            "Iteration 890, Loss: 4.504559157939138, Accuracy: 84.93173773807517%\n",
            "Iteration 900, Loss: 4.499072712166507, Accuracy: 85.10112927692568%\n",
            "Iteration 910, Loss: 4.493605531306934, Accuracy: 85.25071633237822%\n",
            "Iteration 920, Loss: 4.488157475995191, Accuracy: 85.40915219956177%\n",
            "Iteration 930, Loss: 4.482728409427744, Accuracy: 85.57517276251475%\n",
            "Iteration 940, Loss: 4.477318197268788, Accuracy: 85.72602393392887%\n",
            "Iteration 950, Loss: 4.471926707560679, Accuracy: 85.8899376369459%\n",
            "Iteration 960, Loss: 4.466553810638606, Accuracy: 86.02688353278273%\n",
            "Iteration 970, Loss: 4.46119937904928, Accuracy: 86.18026293612002%\n",
            "Iteration 980, Loss: 4.455863287473422, Accuracy: 86.33322096747008%\n",
            "Iteration 990, Loss: 4.450545412651855, Accuracy: 86.47058823529412%\n",
            "Iteration 1000, Loss: 4.4452456333150465, Accuracy: 86.60542727119501%\n",
            "Iteration 1010, Loss: 4.43996383011591, Accuracy: 86.7579639305579%\n",
            "Iteration 1020, Loss: 4.434699885565678, Accuracy: 86.88142592280465%\n",
            "Iteration 1030, Loss: 4.429453683972765, Accuracy: 87.02132142255184%\n",
            "Iteration 1040, Loss: 4.424225111384368, Accuracy: 87.1443620428114%\n",
            "Iteration 1050, Loss: 4.419014055530758, Accuracy: 87.2695095230069%\n",
            "Iteration 1060, Loss: 4.413820405772071, Accuracy: 87.39887072307432%\n",
            "Iteration 1070, Loss: 4.408644053047508, Accuracy: 87.52738917916737%\n",
            "Iteration 1080, Loss: 4.403484889826764, Accuracy: 87.64832293949098%\n",
            "Iteration 1090, Loss: 4.3983428100636734, Accuracy: 87.77262767571213%\n",
            "Iteration 1100, Loss: 4.3932177091518545, Accuracy: 87.88471262430474%\n",
            "Iteration 1110, Loss: 4.388109483882322, Accuracy: 87.99131973706388%\n",
            "Iteration 1120, Loss: 4.38301803240294, Accuracy: 88.10424742963087%\n",
            "Iteration 1130, Loss: 4.377943254179641, Accuracy: 88.21296140232597%\n",
            "Iteration 1140, Loss: 4.372885049959291, Accuracy: 88.31619753918758%\n",
            "Iteration 1150, Loss: 4.367843321734168, Accuracy: 88.42322602393394%\n",
            "Iteration 1160, Loss: 4.362817972707895, Accuracy: 88.53615371650093%\n",
            "Iteration 1170, Loss: 4.357808907262907, Accuracy: 88.63601887746503%\n",
            "Iteration 1180, Loss: 4.352816030929148, Accuracy: 88.73504129445475%\n",
            "Iteration 1190, Loss: 4.347839250354157, Accuracy: 88.82900724759818%\n",
            "Iteration 1200, Loss: 4.342878473274348, Accuracy: 88.92971515253666%\n",
            "Iteration 1210, Loss: 4.33793360848745, Accuracy: 89.02031012978257%\n",
            "Iteration 1220, Loss: 4.333004565826097, Accuracy: 89.114276082926%\n",
            "Iteration 1230, Loss: 4.328091256132424, Accuracy: 89.21540535985167%\n",
            "Iteration 1240, Loss: 4.323193591233733, Accuracy: 89.30389347716164%\n",
            "Iteration 1250, Loss: 4.318311483919049, Accuracy: 89.39659531434351%\n",
            "Iteration 1260, Loss: 4.313444847916638, Accuracy: 89.47539187594809%\n",
            "Iteration 1270, Loss: 4.308593597872375, Accuracy: 89.56809371312995%\n",
            "Iteration 1280, Loss: 4.303757649328952, Accuracy: 89.64520478678577%\n",
            "Iteration 1290, Loss: 4.298936918705846, Accuracy: 89.73664250800607%\n",
            "Iteration 1300, Loss: 4.294131323280052, Accuracy: 89.80321928198214%\n",
            "Iteration 1310, Loss: 4.289340781167563, Accuracy: 89.89086465531771%\n",
            "Iteration 1320, Loss: 4.284565211305472, Accuracy: 89.97471768076858%\n",
            "Iteration 1330, Loss: 4.279804533434761, Accuracy: 90.0396089667959%\n",
            "Iteration 1340, Loss: 4.2750586680837115, Accuracy: 90.104078880836%\n",
            "Iteration 1350, Loss: 4.2703275365518945, Accuracy: 90.17950446654307%\n",
            "Iteration 1360, Loss: 4.2656110608947175, Accuracy: 90.24650261250632%\n",
            "Iteration 1370, Loss: 4.260909163908526, Accuracy: 90.31518624641834%\n",
            "Iteration 1380, Loss: 4.256221769116215, Accuracy: 90.38934771616383%\n",
            "Iteration 1390, Loss: 4.251548800753328, Accuracy: 90.4639305578965%\n",
            "Iteration 1400, Loss: 4.246890183754603, Accuracy: 90.5208157761672%\n",
            "Iteration 1410, Loss: 4.242245843741021, Accuracy: 90.58992078206641%\n",
            "Iteration 1420, Loss: 4.237615707007219, Accuracy: 90.65691892802967%\n",
            "Iteration 1430, Loss: 4.232999700509353, Accuracy: 90.71970335412102%\n",
            "Iteration 1440, Loss: 4.2283977518533415, Accuracy: 90.78628012809709%\n",
            "Iteration 1450, Loss: 4.223809789283478, Accuracy: 90.84906455418844%\n",
            "Iteration 1460, Loss: 4.219235741671394, Accuracy: 90.91269172425417%\n",
            "Iteration 1470, Loss: 4.2146755385053964, Accuracy: 90.96536322265297%\n",
            "Iteration 1480, Loss: 4.21012910988008, Accuracy: 91.02182706893646%\n",
            "Iteration 1490, Loss: 4.205596386486322, Accuracy: 91.07576268329682%\n",
            "Iteration 1500, Loss: 4.201077299601492, Accuracy: 91.12632732175965%\n",
            "Iteration 1510, Loss: 4.196571781080038, Accuracy: 91.18236979605597%\n",
            "Iteration 1520, Loss: 4.1920797633442834, Accuracy: 91.23167031855722%\n",
            "Iteration 1530, Loss: 4.187601179375525, Accuracy: 91.28307770099444%\n",
            "Iteration 1540, Loss: 4.183135962705364, Accuracy: 91.33111410753413%\n",
            "Iteration 1550, Loss: 4.1786840474072955, Accuracy: 91.38420697792012%\n",
            "Iteration 1560, Loss: 4.174245368088503, Accuracy: 91.42887240856228%\n",
            "Iteration 1570, Loss: 4.169819859881941, Accuracy: 91.47943704702512%\n",
            "Iteration 1580, Loss: 4.165407458438542, Accuracy: 91.52873756952637%\n",
            "Iteration 1590, Loss: 4.161008099919728, Accuracy: 91.58183043991237%\n",
            "Iteration 1600, Loss: 4.156621720990025, Accuracy: 91.6277599865161%\n"
          ]
        }
      ]
    },
    {
      "cell_type": "markdown",
      "source": [
        "# Evaluation des données"
      ],
      "metadata": {
        "id": "qJI9qCsn7-qc"
      }
    },
    {
      "cell_type": "code",
      "source": [
        "def evaluation(W, B, X_test, y_test) :\n",
        "  Y_test_pred = sigmoid(W.T @ X_test + b1_optimized, a)\n",
        "  test_loss = loss_function(y_test, Y_test_pred)\n",
        "  test_accuracy = np.mean(np.round(Y_test_pred) == y_test)\n",
        "  print(f\"\\nFinal Test Loss: {test_loss}, Test Accuracy: {test_accuracy * 100}%\")\n",
        "\n",
        "  # Plot the training loss\n",
        "  plt.plot(range(10, num_iterations + 1, 10), train_losses, label='Training Loss')\n",
        "  plt.xlabel('Iteration')\n",
        "  plt.ylabel('Loss')\n",
        "  plt.title('Training Loss over Iterations')\n",
        "  plt.legend()\n",
        "  plt.show()\n",
        "\n",
        "  # Plot the training accuracy\n",
        "  plt.plot(range(10, num_iterations + 1, 10), accuracies, label='Training Accuracy')\n",
        "  plt.xlabel('Iteration')\n",
        "  plt.ylabel('Accuracy')\n",
        "  plt.title('Training Accuracy over Iterations')\n",
        "  plt.legend()\n",
        "  plt.show()"
      ],
      "metadata": {
        "id": "uJCkdiVX79_P"
      },
      "execution_count": 336,
      "outputs": []
    },
    {
      "cell_type": "code",
      "source": [
        "evaluation(W1_optimized, b1_optimized, X_test, y_test)"
      ],
      "metadata": {
        "id": "cD63PHxohXrQ",
        "outputId": "3cd1c1cf-8558-42be-fb7c-fcc535eeeff7",
        "colab": {
          "base_uri": "https://localhost:8080/",
          "height": 962
        }
      },
      "execution_count": 337,
      "outputs": [
        {
          "output_type": "stream",
          "name": "stdout",
          "text": [
            "\n",
            "Final Test Loss: 4.1790593861442025, Test Accuracy: 91.3658070678128%\n"
          ]
        },
        {
          "output_type": "display_data",
          "data": {
            "text/plain": [
              "<Figure size 640x480 with 1 Axes>"
            ],
            "image/png": "[encoded data removed]"
          },
          "metadata": {}
        },
        {
          "output_type": "display_data",
          "data": {
            "text/plain": [
              "<Figure size 640x480 with 1 Axes>"
            ],
            "image/png": "[encoded data removed]"
          },
          "metadata": {}
        }
      ]
    },
    {
      "cell_type": "markdown",
      "source": [
        "# Création validation"
      ],
      "metadata": {
        "id": "Ffv4AvSIhYEf"
      }
    },
    {
      "cell_type": "code",
      "source": [
        "def pred_to_onehot(y_pred):\n",
        "    temp = []\n",
        "    for row in y_pred.T: #on boucle  travers les colonnes de y_pred\n",
        "        temp_row = np.zeros(y_pred.shape[0]) #vecteur de 20 zeros\n",
        "        for i in range(y_pred.shape[0]):\n",
        "            if row[i] == max(row):\n",
        "                temp_row[i] = 1\n",
        "                break\n",
        "        temp.append(temp_row)\n",
        "\n",
        "    return np.array(temp, dtype=np.float64).T"
      ],
      "metadata": {
        "id": "dJVFpZAeEaJC"
      },
      "execution_count": 338,
      "outputs": []
    },
    {
      "cell_type": "code",
      "source": [
        "x_valid = Xvr[:,:]\n",
        "y_valid = pred_to_onehot(sigmoid(W1_optimized.T @ x_valid + b1_optimized, a)).T\n",
        "prediction = []\n",
        "for i in range(y_valid.shape[0]):\n",
        "    predicted_class = list(y_valid[i]).index(1)\n",
        "    # predicted_class = np.where(y_valid[i] == 1)\n",
        "    prediction.append(str(i+1) + \",\" + str(((predicted_class+1)*100)+1))\n",
        "    # print(prediction)\n",
        "with open(\"validation_prediction.csv\", \"w\") as pred_file:\n",
        "    pred_file.write(\"id,class\\n\")\n",
        "    for y_pred in prediction:\n",
        "        pred_file.write(y_pred+\"\\n\")\n"
      ],
      "metadata": {
        "id": "RV6Rmf9-D7xe"
      },
      "execution_count": 339,
      "outputs": []
    }
  ]
}